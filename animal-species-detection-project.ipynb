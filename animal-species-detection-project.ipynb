{
 "cells": [
  {
   "cell_type": "markdown",
   "metadata": {
    "papermill": {
     "duration": 0.023559,
     "end_time": "2020-12-14T12:55:22.600519",
     "exception": false,
     "start_time": "2020-12-14T12:55:22.576960",
     "status": "completed"
    },
    "tags": []
   },
   "source": [
    "## Task 1: Importing Libraries"
   ]
  },
  {
   "cell_type": "code",
   "execution_count": 1,
   "metadata": {
    "_cell_guid": "b1076dfc-b9ad-4769-8c92-a6c4dae69d19",
    "_uuid": "8f2839f25d086af736a60e9eeb907d3b93b6e0e5",
    "execution": {
     "iopub.execute_input": "2020-12-14T12:55:22.652856Z",
     "iopub.status.busy": "2020-12-14T12:55:22.652224Z",
     "iopub.status.idle": "2020-12-14T12:55:29.750107Z",
     "shell.execute_reply": "2020-12-14T12:55:29.748811Z"
    },
    "papermill": {
     "duration": 7.127214,
     "end_time": "2020-12-14T12:55:29.750233",
     "exception": false,
     "start_time": "2020-12-14T12:55:22.623019",
     "status": "completed"
    },
    "tags": []
   },
   "outputs": [
    {
     "name": "stdout",
     "output_type": "stream",
     "text": [
      "Python version: 3.7.6\n",
      "Numpy version: 1.17.5\n",
      "Seaborn version: 0.10.0\n",
      "tensorflow version:  2.3.1\n",
      "keras version: 2.4.3\n"
     ]
    }
   ],
   "source": [
    "import keras\n",
    "import os\n",
    "import shutil\n",
    "import numpy as np\n",
    "import math\n",
    "import random\n",
    "import matplotlib.pyplot as plt\n",
    "import seaborn as sns\n",
    "sns.set()\n",
    "from platform import python_version\n",
    "\n",
    "print('Python version:', python_version())\n",
    "print('Numpy version:', np.__version__)\n",
    "print('Seaborn version:', sns.__version__)\n",
    "from distutils.dir_util import copy_tree\n",
    "import tensorflow as tf\n",
    "print('tensorflow version: ',tf.__version__)\n",
    "print('keras version:', keras.__version__)"
   ]
  },
  {
   "cell_type": "code",
   "execution_count": 2,
   "metadata": {
    "_cell_guid": "79c7e3d0-c299-4dcb-8224-4455121ee9b0",
    "_uuid": "d629ff2d2480ee46fbb7e2d37f6b5fab8052498a",
    "execution": {
     "iopub.execute_input": "2020-12-14T12:55:29.812125Z",
     "iopub.status.busy": "2020-12-14T12:55:29.811552Z",
     "iopub.status.idle": "2020-12-14T12:55:29.815901Z",
     "shell.execute_reply": "2020-12-14T12:55:29.815303Z"
    },
    "papermill": {
     "duration": 0.034892,
     "end_time": "2020-12-14T12:55:29.816017",
     "exception": false,
     "start_time": "2020-12-14T12:55:29.781125",
     "status": "completed"
    },
    "tags": []
   },
   "outputs": [],
   "source": [
    "from keras.layers import Convolution2D\n",
    "from keras.layers import MaxPooling2D\n",
    "from keras.layers import Flatten\n",
    "from keras.layers import Dense\n",
    "from keras.models import Sequential\n",
    "from keras.layers import Dropout\n",
    "from keras_preprocessing.image import ImageDataGenerator"
   ]
  },
  {
   "cell_type": "markdown",
   "metadata": {
    "papermill": {
     "duration": 0.026643,
     "end_time": "2020-12-14T12:55:29.872020",
     "exception": false,
     "start_time": "2020-12-14T12:55:29.845377",
     "status": "completed"
    },
    "tags": []
   },
   "source": [
    "## Task 2: Dataset Creation"
   ]
  },
  {
   "cell_type": "code",
   "execution_count": 3,
   "metadata": {
    "execution": {
     "iopub.execute_input": "2020-12-14T12:55:29.924875Z",
     "iopub.status.busy": "2020-12-14T12:55:29.924217Z",
     "iopub.status.idle": "2020-12-14T12:55:43.721386Z",
     "shell.execute_reply": "2020-12-14T12:55:43.720458Z"
    },
    "papermill": {
     "duration": 13.825148,
     "end_time": "2020-12-14T12:55:43.721508",
     "exception": false,
     "start_time": "2020-12-14T12:55:29.896360",
     "status": "completed"
    },
    "tags": []
   },
   "outputs": [],
   "source": [
    "#created data set using console\n",
    "source='../input/african-wildlife/'\n",
    "target='./train_data/'\n",
    "shutil.copytree(source, target)\n",
    "os.mkdir('test_data')"
   ]
  },
  {
   "cell_type": "code",
   "execution_count": 4,
   "metadata": {
    "execution": {
     "iopub.execute_input": "2020-12-14T12:55:43.774639Z",
     "iopub.status.busy": "2020-12-14T12:55:43.773809Z",
     "iopub.status.idle": "2020-12-14T12:55:43.804834Z",
     "shell.execute_reply": "2020-12-14T12:55:43.804354Z"
    },
    "papermill": {
     "duration": 0.05967,
     "end_time": "2020-12-14T12:55:43.804930",
     "exception": false,
     "start_time": "2020-12-14T12:55:43.745260",
     "status": "completed"
    },
    "tags": []
   },
   "outputs": [],
   "source": [
    "# remove unwanted data and create same classed for test_data\n",
    "\n",
    "path=\"./train_data/\"\n",
    "for file in os.listdir(path):\n",
    "    for image in os.listdir(path+file+'/'):\n",
    "        if '.jpg' not in image:\n",
    "            os.remove(path+file+'/'+image)\n",
    "    os.mkdir('./test_data/'+file)\n"
   ]
  },
  {
   "cell_type": "code",
   "execution_count": 5,
   "metadata": {
    "execution": {
     "iopub.execute_input": "2020-12-14T12:55:43.861206Z",
     "iopub.status.busy": "2020-12-14T12:55:43.860337Z",
     "iopub.status.idle": "2020-12-14T12:55:43.950764Z",
     "shell.execute_reply": "2020-12-14T12:55:43.951467Z"
    },
    "papermill": {
     "duration": 0.123168,
     "end_time": "2020-12-14T12:55:43.951617",
     "exception": false,
     "start_time": "2020-12-14T12:55:43.828449",
     "status": "completed"
    },
    "tags": []
   },
   "outputs": [
    {
     "name": "stdout",
     "output_type": "stream",
     "text": [
      "buffalo 375 94\n",
      "zebra 376 94\n",
      "elephant 375 94\n",
      "rhino 375 94\n",
      "total train images are :  1125  and total train classes are :  4\n"
     ]
    }
   ],
   "source": [
    "# create test_data by taking 25% images from data\n",
    "\n",
    "total_train_images,total_test_images,total_train_classes,total_test_classes=0,0,0,0\n",
    "path=\"./train_data/\"\n",
    "for file in os.listdir(path):\n",
    "    total_train_classes+=1\n",
    "    total_images=len(os.listdir(path+file+\"/\"))\n",
    "    test_image_count=(25/100)*total_images #25% for test and 75% for train\n",
    "    for i in range(math.ceil(test_image_count)):\n",
    "        img=random.choice(os.listdir(path+file+'/'))\n",
    "        shutil.move(path+file+'/'+img,'./test_data/'+file+'/')\n",
    "        #print(img)\n",
    "    print(file,total_images,math.ceil(test_image_count))\n",
    "    total_train_images+=(total_images-math.ceil(test_image_count))\n",
    "    #print(file,math.ceil(test_image_count))\n",
    "print(\"total train images are : \",total_train_images,\" and total train classes are : \",total_train_classes)"
   ]
  },
  {
   "cell_type": "markdown",
   "metadata": {
    "papermill": {
     "duration": 0.023528,
     "end_time": "2020-12-14T12:55:44.004212",
     "exception": false,
     "start_time": "2020-12-14T12:55:43.980684",
     "status": "completed"
    },
    "tags": []
   },
   "source": [
    "## Task 3: Model Creation"
   ]
  },
  {
   "cell_type": "code",
   "execution_count": 6,
   "metadata": {
    "execution": {
     "iopub.execute_input": "2020-12-14T12:55:44.056670Z",
     "iopub.status.busy": "2020-12-14T12:55:44.056056Z",
     "iopub.status.idle": "2020-12-14T12:55:47.028031Z",
     "shell.execute_reply": "2020-12-14T12:55:47.026982Z"
    },
    "papermill": {
     "duration": 2.999631,
     "end_time": "2020-12-14T12:55:47.028162",
     "exception": false,
     "start_time": "2020-12-14T12:55:44.028531",
     "status": "completed"
    },
    "tags": []
   },
   "outputs": [],
   "source": [
    "model = Sequential()"
   ]
  },
  {
   "cell_type": "code",
   "execution_count": 7,
   "metadata": {
    "execution": {
     "iopub.execute_input": "2020-12-14T12:55:47.088042Z",
     "iopub.status.busy": "2020-12-14T12:55:47.087356Z",
     "iopub.status.idle": "2020-12-14T12:55:47.131371Z",
     "shell.execute_reply": "2020-12-14T12:55:47.131800Z"
    },
    "papermill": {
     "duration": 0.079274,
     "end_time": "2020-12-14T12:55:47.131920",
     "exception": false,
     "start_time": "2020-12-14T12:55:47.052646",
     "status": "completed"
    },
    "tags": []
   },
   "outputs": [],
   "source": [
    "#inputlayer : apply filters\n",
    "model.add(Convolution2D(filters=32, \n",
    "                        kernel_size=(3,3),\n",
    "                        strides=(1,1),\n",
    "                        padding='same',\n",
    "                        activation='relu',\n",
    "                   input_shape=(32, 32, 1)))"
   ]
  },
  {
   "cell_type": "code",
   "execution_count": 8,
   "metadata": {
    "execution": {
     "iopub.execute_input": "2020-12-14T12:55:47.185891Z",
     "iopub.status.busy": "2020-12-14T12:55:47.185228Z",
     "iopub.status.idle": "2020-12-14T12:55:47.190265Z",
     "shell.execute_reply": "2020-12-14T12:55:47.189810Z"
    },
    "papermill": {
     "duration": 0.033999,
     "end_time": "2020-12-14T12:55:47.190395",
     "exception": false,
     "start_time": "2020-12-14T12:55:47.156396",
     "status": "completed"
    },
    "tags": []
   },
   "outputs": [],
   "source": [
    "# pooling layer where we are doing maxpooling\n",
    "model.add(MaxPooling2D(pool_size=(2, 2)))"
   ]
  },
  {
   "cell_type": "code",
   "execution_count": 9,
   "metadata": {
    "execution": {
     "iopub.execute_input": "2020-12-14T12:55:47.247151Z",
     "iopub.status.busy": "2020-12-14T12:55:47.246209Z",
     "iopub.status.idle": "2020-12-14T12:55:47.256332Z",
     "shell.execute_reply": "2020-12-14T12:55:47.255854Z"
    },
    "papermill": {
     "duration": 0.041971,
     "end_time": "2020-12-14T12:55:47.256428",
     "exception": false,
     "start_time": "2020-12-14T12:55:47.214457",
     "status": "completed"
    },
    "tags": []
   },
   "outputs": [],
   "source": [
    "#adding one more convolution layer for better model\n",
    "model.add(Convolution2D(filters=32, \n",
    "                        kernel_size=(3,3),\n",
    "                        strides=(1,1),\n",
    "                        padding='same', \n",
    "                        activation='relu'\n",
    "                      ))"
   ]
  },
  {
   "cell_type": "code",
   "execution_count": 10,
   "metadata": {
    "execution": {
     "iopub.execute_input": "2020-12-14T12:55:47.311863Z",
     "iopub.status.busy": "2020-12-14T12:55:47.311169Z",
     "iopub.status.idle": "2020-12-14T12:55:47.314259Z",
     "shell.execute_reply": "2020-12-14T12:55:47.314700Z"
    },
    "papermill": {
     "duration": 0.033666,
     "end_time": "2020-12-14T12:55:47.314818",
     "exception": false,
     "start_time": "2020-12-14T12:55:47.281152",
     "status": "completed"
    },
    "tags": []
   },
   "outputs": [],
   "source": [
    "#adding one more Pooling layer for better model\n",
    "model.add(MaxPooling2D(pool_size=(2, 2)))"
   ]
  },
  {
   "cell_type": "code",
   "execution_count": 11,
   "metadata": {
    "execution": {
     "iopub.execute_input": "2020-12-14T12:55:47.370299Z",
     "iopub.status.busy": "2020-12-14T12:55:47.369578Z",
     "iopub.status.idle": "2020-12-14T12:55:47.398198Z",
     "shell.execute_reply": "2020-12-14T12:55:47.398646Z"
    },
    "papermill": {
     "duration": 0.059429,
     "end_time": "2020-12-14T12:55:47.398771",
     "exception": false,
     "start_time": "2020-12-14T12:55:47.339342",
     "status": "completed"
    },
    "tags": []
   },
   "outputs": [],
   "source": [
    "#dropout regularlization\n",
    "model.add(Dropout(0.5))"
   ]
  },
  {
   "cell_type": "code",
   "execution_count": 12,
   "metadata": {
    "execution": {
     "iopub.execute_input": "2020-12-14T12:55:47.456712Z",
     "iopub.status.busy": "2020-12-14T12:55:47.455837Z",
     "iopub.status.idle": "2020-12-14T12:55:47.460732Z",
     "shell.execute_reply": "2020-12-14T12:55:47.461159Z"
    },
    "papermill": {
     "duration": 0.037832,
     "end_time": "2020-12-14T12:55:47.461268",
     "exception": false,
     "start_time": "2020-12-14T12:55:47.423436",
     "status": "completed"
    },
    "tags": []
   },
   "outputs": [],
   "source": [
    "#layer in which we are converting 2d/3d image to 1d image i.e flattening\n",
    "model.add(Flatten())"
   ]
  },
  {
   "cell_type": "code",
   "execution_count": 13,
   "metadata": {
    "execution": {
     "iopub.execute_input": "2020-12-14T12:55:47.516955Z",
     "iopub.status.busy": "2020-12-14T12:55:47.516064Z",
     "iopub.status.idle": "2020-12-14T12:55:47.524692Z",
     "shell.execute_reply": "2020-12-14T12:55:47.524223Z"
    },
    "papermill": {
     "duration": 0.038444,
     "end_time": "2020-12-14T12:55:47.524791",
     "exception": false,
     "start_time": "2020-12-14T12:55:47.486347",
     "status": "completed"
    },
    "tags": []
   },
   "outputs": [],
   "source": [
    "# layer: appling relu to give positive output from here our hidden layerrs starts\n",
    "model.add(Dense(units=20, activation='relu'))"
   ]
  },
  {
   "cell_type": "code",
   "execution_count": 14,
   "metadata": {
    "execution": {
     "iopub.execute_input": "2020-12-14T12:55:47.580624Z",
     "iopub.status.busy": "2020-12-14T12:55:47.578773Z",
     "iopub.status.idle": "2020-12-14T12:55:47.590852Z",
     "shell.execute_reply": "2020-12-14T12:55:47.590252Z"
    },
    "papermill": {
     "duration": 0.041215,
     "end_time": "2020-12-14T12:55:47.590943",
     "exception": false,
     "start_time": "2020-12-14T12:55:47.549728",
     "status": "completed"
    },
    "tags": []
   },
   "outputs": [],
   "source": [
    "#dropout regularlization\n",
    "model.add(Dropout(0.5))"
   ]
  },
  {
   "cell_type": "code",
   "execution_count": 15,
   "metadata": {
    "execution": {
     "iopub.execute_input": "2020-12-14T12:55:47.647560Z",
     "iopub.status.busy": "2020-12-14T12:55:47.646587Z",
     "iopub.status.idle": "2020-12-14T12:55:47.655527Z",
     "shell.execute_reply": "2020-12-14T12:55:47.655031Z"
    },
    "papermill": {
     "duration": 0.039656,
     "end_time": "2020-12-14T12:55:47.655616",
     "exception": false,
     "start_time": "2020-12-14T12:55:47.615960",
     "status": "completed"
    },
    "tags": []
   },
   "outputs": [],
   "source": [
    "# output layer : Since we have to do multi-class classification so we'll apply softmax activation function \n",
    "# we have 4 classes of animals so output layer would have that many neurons.\n",
    "model.add(Dense(units=4, activation='softmax'))"
   ]
  },
  {
   "cell_type": "code",
   "execution_count": 16,
   "metadata": {
    "execution": {
     "iopub.execute_input": "2020-12-14T12:55:47.717098Z",
     "iopub.status.busy": "2020-12-14T12:55:47.714264Z",
     "iopub.status.idle": "2020-12-14T12:55:47.723521Z",
     "shell.execute_reply": "2020-12-14T12:55:47.723016Z"
    },
    "papermill": {
     "duration": 0.042396,
     "end_time": "2020-12-14T12:55:47.723608",
     "exception": false,
     "start_time": "2020-12-14T12:55:47.681212",
     "status": "completed"
    },
    "tags": []
   },
   "outputs": [],
   "source": [
    "model.compile(optimizer='adam', loss='categorical_crossentropy', metrics=['accuracy'])"
   ]
  },
  {
   "cell_type": "code",
   "execution_count": 17,
   "metadata": {
    "execution": {
     "iopub.execute_input": "2020-12-14T12:55:47.780361Z",
     "iopub.status.busy": "2020-12-14T12:55:47.778888Z",
     "iopub.status.idle": "2020-12-14T12:55:47.789126Z",
     "shell.execute_reply": "2020-12-14T12:55:47.789909Z"
    },
    "papermill": {
     "duration": 0.04002,
     "end_time": "2020-12-14T12:55:47.790095",
     "exception": false,
     "start_time": "2020-12-14T12:55:47.750075",
     "status": "completed"
    },
    "tags": []
   },
   "outputs": [
    {
     "name": "stdout",
     "output_type": "stream",
     "text": [
      "Model: \"sequential\"\n",
      "_________________________________________________________________\n",
      "Layer (type)                 Output Shape              Param #   \n",
      "=================================================================\n",
      "conv2d (Conv2D)              (None, 32, 32, 32)        320       \n",
      "_________________________________________________________________\n",
      "max_pooling2d (MaxPooling2D) (None, 16, 16, 32)        0         \n",
      "_________________________________________________________________\n",
      "conv2d_1 (Conv2D)            (None, 16, 16, 32)        9248      \n",
      "_________________________________________________________________\n",
      "max_pooling2d_1 (MaxPooling2 (None, 8, 8, 32)          0         \n",
      "_________________________________________________________________\n",
      "dropout (Dropout)            (None, 8, 8, 32)          0         \n",
      "_________________________________________________________________\n",
      "flatten (Flatten)            (None, 2048)              0         \n",
      "_________________________________________________________________\n",
      "dense (Dense)                (None, 20)                40980     \n",
      "_________________________________________________________________\n",
      "dropout_1 (Dropout)          (None, 20)                0         \n",
      "_________________________________________________________________\n",
      "dense_1 (Dense)              (None, 4)                 84        \n",
      "=================================================================\n",
      "Total params: 50,632\n",
      "Trainable params: 50,632\n",
      "Non-trainable params: 0\n",
      "_________________________________________________________________\n"
     ]
    }
   ],
   "source": [
    "model.summary()"
   ]
  },
  {
   "cell_type": "markdown",
   "metadata": {
    "papermill": {
     "duration": 0.025753,
     "end_time": "2020-12-14T12:55:47.845264",
     "exception": false,
     "start_time": "2020-12-14T12:55:47.819511",
     "status": "completed"
    },
    "tags": []
   },
   "source": [
    "## Task 4: Image Augmentation"
   ]
  },
  {
   "cell_type": "code",
   "execution_count": 18,
   "metadata": {
    "execution": {
     "iopub.execute_input": "2020-12-14T12:55:47.906201Z",
     "iopub.status.busy": "2020-12-14T12:55:47.905619Z",
     "iopub.status.idle": "2020-12-14T12:55:48.123057Z",
     "shell.execute_reply": "2020-12-14T12:55:48.123737Z"
    },
    "papermill": {
     "duration": 0.251179,
     "end_time": "2020-12-14T12:55:48.123927",
     "exception": false,
     "start_time": "2020-12-14T12:55:47.872748",
     "status": "completed"
    },
    "tags": []
   },
   "outputs": [
    {
     "name": "stdout",
     "output_type": "stream",
     "text": [
      "Found 1125 images belonging to 4 classes.\n",
      "Found 376 images belonging to 4 classes.\n"
     ]
    }
   ],
   "source": [
    "#url : https://keras.io/api/preprocessing/image/ \n",
    "train_datagen = ImageDataGenerator(\n",
    "        rescale=1./255,\n",
    "        shear_range=0.2,\n",
    "        zoom_range=0.2,\n",
    "        horizontal_flip=True)\n",
    "test_datagen = ImageDataGenerator(rescale=1./255)\n",
    "training_set = train_datagen.flow_from_directory(\n",
    "        './train_data/',\n",
    "        target_size=(32,32),\n",
    "        color_mode=\"grayscale\",\n",
    "        batch_size=64,\n",
    "        class_mode='categorical')\n",
    "test_set = test_datagen.flow_from_directory(\n",
    "        './test_data/',\n",
    "        target_size=(32,32),\n",
    "        color_mode=\"grayscale\",\n",
    "        batch_size=64,\n",
    "        class_mode='categorical')"
   ]
  },
  {
   "cell_type": "code",
   "execution_count": 19,
   "metadata": {
    "execution": {
     "iopub.execute_input": "2020-12-14T12:55:48.208025Z",
     "iopub.status.busy": "2020-12-14T12:55:48.207221Z",
     "iopub.status.idle": "2020-12-14T12:55:48.211000Z",
     "shell.execute_reply": "2020-12-14T12:55:48.211700Z"
    },
    "papermill": {
     "duration": 0.049919,
     "end_time": "2020-12-14T12:55:48.211853",
     "exception": false,
     "start_time": "2020-12-14T12:55:48.161934",
     "status": "completed"
    },
    "tags": []
   },
   "outputs": [
    {
     "data": {
      "text/plain": [
       "{'buffalo': 0, 'elephant': 1, 'rhino': 2, 'zebra': 3}"
      ]
     },
     "execution_count": 19,
     "metadata": {},
     "output_type": "execute_result"
    }
   ],
   "source": [
    "training_set.class_indices # to see classes of our dataset"
   ]
  },
  {
   "cell_type": "code",
   "execution_count": null,
   "metadata": {
    "papermill": {
     "duration": 0.037609,
     "end_time": "2020-12-14T12:55:48.289065",
     "exception": false,
     "start_time": "2020-12-14T12:55:48.251456",
     "status": "completed"
    },
    "tags": []
   },
   "outputs": [],
   "source": []
  },
  {
   "cell_type": "markdown",
   "metadata": {
    "papermill": {
     "duration": 0.037952,
     "end_time": "2020-12-14T12:55:48.365101",
     "exception": false,
     "start_time": "2020-12-14T12:55:48.327149",
     "status": "completed"
    },
    "tags": []
   },
   "source": [
    "## Task 5: Model Training"
   ]
  },
  {
   "cell_type": "code",
   "execution_count": 20,
   "metadata": {
    "execution": {
     "iopub.execute_input": "2020-12-14T12:55:48.449010Z",
     "iopub.status.busy": "2020-12-14T12:55:48.447253Z",
     "iopub.status.idle": "2020-12-14T13:36:45.251822Z",
     "shell.execute_reply": "2020-12-14T13:36:45.252566Z"
    },
    "papermill": {
     "duration": 2456.849296,
     "end_time": "2020-12-14T13:36:45.252763",
     "exception": false,
     "start_time": "2020-12-14T12:55:48.403467",
     "status": "completed"
    },
    "tags": []
   },
   "outputs": [
    {
     "name": "stdout",
     "output_type": "stream",
     "text": [
      "Epoch 1/100\n",
      "18/17 [==============================] - 24s 1s/step - loss: 1.3892 - accuracy: 0.2729 - val_loss: 1.3656 - val_accuracy: 0.4043\n",
      "Epoch 2/100\n",
      "18/17 [==============================] - 24s 1s/step - loss: 1.3740 - accuracy: 0.3058 - val_loss: 1.3466 - val_accuracy: 0.4202\n",
      "Epoch 3/100\n",
      "18/17 [==============================] - 23s 1s/step - loss: 1.3494 - accuracy: 0.3387 - val_loss: 1.3022 - val_accuracy: 0.4122\n",
      "Epoch 4/100\n",
      "18/17 [==============================] - 23s 1s/step - loss: 1.3085 - accuracy: 0.3751 - val_loss: 1.2447 - val_accuracy: 0.4255\n",
      "Epoch 5/100\n",
      "18/17 [==============================] - 23s 1s/step - loss: 1.2604 - accuracy: 0.4276 - val_loss: 1.1819 - val_accuracy: 0.4335\n",
      "Epoch 6/100\n",
      "18/17 [==============================] - 23s 1s/step - loss: 1.1988 - accuracy: 0.4516 - val_loss: 1.1187 - val_accuracy: 0.4814\n",
      "Epoch 7/100\n",
      "18/17 [==============================] - 24s 1s/step - loss: 1.1692 - accuracy: 0.4658 - val_loss: 1.1164 - val_accuracy: 0.4920\n",
      "Epoch 8/100\n",
      "18/17 [==============================] - 23s 1s/step - loss: 1.1387 - accuracy: 0.4960 - val_loss: 1.1057 - val_accuracy: 0.5186\n",
      "Epoch 9/100\n",
      "18/17 [==============================] - 24s 1s/step - loss: 1.0960 - accuracy: 0.5129 - val_loss: 1.0551 - val_accuracy: 0.5426\n",
      "Epoch 10/100\n",
      "18/17 [==============================] - 23s 1s/step - loss: 1.0850 - accuracy: 0.5058 - val_loss: 1.1155 - val_accuracy: 0.5239\n",
      "Epoch 11/100\n",
      "18/17 [==============================] - 23s 1s/step - loss: 1.0725 - accuracy: 0.5191 - val_loss: 0.9519 - val_accuracy: 0.6011\n",
      "Epoch 12/100\n",
      "18/17 [==============================] - 23s 1s/step - loss: 1.0782 - accuracy: 0.5156 - val_loss: 0.9732 - val_accuracy: 0.5931\n",
      "Epoch 13/100\n",
      "18/17 [==============================] - 23s 1s/step - loss: 1.0347 - accuracy: 0.5449 - val_loss: 0.9458 - val_accuracy: 0.6117\n",
      "Epoch 14/100\n",
      "18/17 [==============================] - 24s 1s/step - loss: 1.0462 - accuracy: 0.5467 - val_loss: 1.0036 - val_accuracy: 0.5638\n",
      "Epoch 15/100\n",
      "18/17 [==============================] - 23s 1s/step - loss: 1.0012 - accuracy: 0.5600 - val_loss: 1.0647 - val_accuracy: 0.5638\n",
      "Epoch 16/100\n",
      "18/17 [==============================] - 23s 1s/step - loss: 1.0134 - accuracy: 0.5556 - val_loss: 1.0810 - val_accuracy: 0.5346\n",
      "Epoch 17/100\n",
      "18/17 [==============================] - 23s 1s/step - loss: 1.0011 - accuracy: 0.5724 - val_loss: 1.0109 - val_accuracy: 0.5665\n",
      "Epoch 18/100\n",
      "18/17 [==============================] - 23s 1s/step - loss: 1.0204 - accuracy: 0.5538 - val_loss: 1.0341 - val_accuracy: 0.5638\n",
      "Epoch 19/100\n",
      "18/17 [==============================] - 24s 1s/step - loss: 0.9947 - accuracy: 0.5644 - val_loss: 0.9892 - val_accuracy: 0.5718\n",
      "Epoch 20/100\n",
      "18/17 [==============================] - 23s 1s/step - loss: 0.9733 - accuracy: 0.5849 - val_loss: 1.0636 - val_accuracy: 0.5691\n",
      "Epoch 21/100\n",
      "18/17 [==============================] - 22s 1s/step - loss: 0.9800 - accuracy: 0.5627 - val_loss: 1.0153 - val_accuracy: 0.5957\n",
      "Epoch 22/100\n",
      "18/17 [==============================] - 24s 1s/step - loss: 0.9697 - accuracy: 0.5778 - val_loss: 0.9886 - val_accuracy: 0.6144\n",
      "Epoch 23/100\n",
      "18/17 [==============================] - 24s 1s/step - loss: 0.9725 - accuracy: 0.5876 - val_loss: 1.0785 - val_accuracy: 0.5691\n",
      "Epoch 24/100\n",
      "18/17 [==============================] - 24s 1s/step - loss: 0.9703 - accuracy: 0.5538 - val_loss: 1.1699 - val_accuracy: 0.5479\n",
      "Epoch 25/100\n",
      "18/17 [==============================] - 23s 1s/step - loss: 0.9420 - accuracy: 0.5867 - val_loss: 1.2252 - val_accuracy: 0.5239\n",
      "Epoch 26/100\n",
      "18/17 [==============================] - 23s 1s/step - loss: 0.9415 - accuracy: 0.5902 - val_loss: 1.1155 - val_accuracy: 0.5559\n",
      "Epoch 27/100\n",
      "18/17 [==============================] - 24s 1s/step - loss: 0.9475 - accuracy: 0.5929 - val_loss: 1.0881 - val_accuracy: 0.5665\n",
      "Epoch 28/100\n",
      "18/17 [==============================] - 22s 1s/step - loss: 0.9246 - accuracy: 0.5902 - val_loss: 0.9832 - val_accuracy: 0.5878\n",
      "Epoch 29/100\n",
      "18/17 [==============================] - 23s 1s/step - loss: 0.9526 - accuracy: 0.5813 - val_loss: 1.0504 - val_accuracy: 0.5532\n",
      "Epoch 30/100\n",
      "18/17 [==============================] - 23s 1s/step - loss: 0.9213 - accuracy: 0.5956 - val_loss: 1.0455 - val_accuracy: 0.6037\n",
      "Epoch 31/100\n",
      "18/17 [==============================] - 23s 1s/step - loss: 0.9146 - accuracy: 0.6053 - val_loss: 1.1838 - val_accuracy: 0.5638\n",
      "Epoch 32/100\n",
      "18/17 [==============================] - 23s 1s/step - loss: 0.9289 - accuracy: 0.5938 - val_loss: 1.1068 - val_accuracy: 0.5824\n",
      "Epoch 33/100\n",
      "18/17 [==============================] - 23s 1s/step - loss: 0.9252 - accuracy: 0.5947 - val_loss: 1.0405 - val_accuracy: 0.5904\n",
      "Epoch 34/100\n",
      "18/17 [==============================] - 23s 1s/step - loss: 0.9147 - accuracy: 0.5991 - val_loss: 1.0212 - val_accuracy: 0.5878\n",
      "Epoch 35/100\n",
      "18/17 [==============================] - 23s 1s/step - loss: 0.8819 - accuracy: 0.6249 - val_loss: 1.0951 - val_accuracy: 0.5745\n",
      "Epoch 36/100\n",
      "18/17 [==============================] - 22s 1s/step - loss: 0.9266 - accuracy: 0.5938 - val_loss: 1.0089 - val_accuracy: 0.5904\n",
      "Epoch 37/100\n",
      "18/17 [==============================] - 25s 1s/step - loss: 0.8924 - accuracy: 0.6249 - val_loss: 1.0751 - val_accuracy: 0.5745\n",
      "Epoch 38/100\n",
      "18/17 [==============================] - 25s 1s/step - loss: 0.8990 - accuracy: 0.6089 - val_loss: 1.2074 - val_accuracy: 0.5612\n",
      "Epoch 39/100\n",
      "18/17 [==============================] - 26s 1s/step - loss: 0.8979 - accuracy: 0.5982 - val_loss: 1.1435 - val_accuracy: 0.5798\n",
      "Epoch 40/100\n",
      "18/17 [==============================] - 24s 1s/step - loss: 0.9013 - accuracy: 0.6107 - val_loss: 1.3791 - val_accuracy: 0.5319\n",
      "Epoch 41/100\n",
      "18/17 [==============================] - 23s 1s/step - loss: 0.8962 - accuracy: 0.6169 - val_loss: 1.1082 - val_accuracy: 0.5718\n",
      "Epoch 42/100\n",
      "18/17 [==============================] - 23s 1s/step - loss: 0.8853 - accuracy: 0.6187 - val_loss: 1.0232 - val_accuracy: 0.6170\n",
      "Epoch 43/100\n",
      "18/17 [==============================] - 23s 1s/step - loss: 0.8735 - accuracy: 0.6302 - val_loss: 1.0393 - val_accuracy: 0.6011\n",
      "Epoch 44/100\n",
      "18/17 [==============================] - 24s 1s/step - loss: 0.8659 - accuracy: 0.6240 - val_loss: 1.2805 - val_accuracy: 0.5399\n",
      "Epoch 45/100\n",
      "18/17 [==============================] - 23s 1s/step - loss: 0.8663 - accuracy: 0.6160 - val_loss: 0.8729 - val_accuracy: 0.6596\n",
      "Epoch 46/100\n",
      "18/17 [==============================] - 25s 1s/step - loss: 0.8978 - accuracy: 0.6169 - val_loss: 0.9533 - val_accuracy: 0.6516\n",
      "Epoch 47/100\n",
      "18/17 [==============================] - 23s 1s/step - loss: 0.8902 - accuracy: 0.6133 - val_loss: 0.9709 - val_accuracy: 0.6463\n",
      "Epoch 48/100\n",
      "18/17 [==============================] - 23s 1s/step - loss: 0.8735 - accuracy: 0.6391 - val_loss: 1.0118 - val_accuracy: 0.6356\n",
      "Epoch 49/100\n",
      "18/17 [==============================] - 24s 1s/step - loss: 0.8918 - accuracy: 0.6036 - val_loss: 1.0322 - val_accuracy: 0.6064\n",
      "Epoch 50/100\n",
      "18/17 [==============================] - 23s 1s/step - loss: 0.8468 - accuracy: 0.6178 - val_loss: 1.0604 - val_accuracy: 0.6011\n",
      "Epoch 51/100\n",
      "18/17 [==============================] - 24s 1s/step - loss: 0.8588 - accuracy: 0.6062 - val_loss: 0.9844 - val_accuracy: 0.6356\n",
      "Epoch 52/100\n",
      "18/17 [==============================] - 23s 1s/step - loss: 0.8486 - accuracy: 0.6311 - val_loss: 1.0672 - val_accuracy: 0.6197\n",
      "Epoch 53/100\n",
      "18/17 [==============================] - 23s 1s/step - loss: 0.8619 - accuracy: 0.6222 - val_loss: 1.2053 - val_accuracy: 0.5638\n",
      "Epoch 54/100\n",
      "18/17 [==============================] - 24s 1s/step - loss: 0.8450 - accuracy: 0.6249 - val_loss: 1.1862 - val_accuracy: 0.5904\n",
      "Epoch 55/100\n",
      "18/17 [==============================] - 24s 1s/step - loss: 0.8378 - accuracy: 0.6329 - val_loss: 1.4114 - val_accuracy: 0.5479\n",
      "Epoch 56/100\n",
      "18/17 [==============================] - 25s 1s/step - loss: 0.8541 - accuracy: 0.6116 - val_loss: 1.3562 - val_accuracy: 0.5479\n",
      "Epoch 57/100\n",
      "18/17 [==============================] - 24s 1s/step - loss: 0.8475 - accuracy: 0.6151 - val_loss: 1.1212 - val_accuracy: 0.6197\n",
      "Epoch 58/100\n",
      "18/17 [==============================] - 23s 1s/step - loss: 0.8731 - accuracy: 0.6116 - val_loss: 1.0993 - val_accuracy: 0.6144\n",
      "Epoch 59/100\n",
      "18/17 [==============================] - 24s 1s/step - loss: 0.8586 - accuracy: 0.6196 - val_loss: 0.9847 - val_accuracy: 0.6489\n",
      "Epoch 60/100\n",
      "18/17 [==============================] - 24s 1s/step - loss: 0.8351 - accuracy: 0.6204 - val_loss: 1.1164 - val_accuracy: 0.5851\n",
      "Epoch 61/100\n",
      "18/17 [==============================] - 25s 1s/step - loss: 0.8518 - accuracy: 0.6124 - val_loss: 0.8681 - val_accuracy: 0.6915\n",
      "Epoch 62/100\n",
      "18/17 [==============================] - 23s 1s/step - loss: 0.8592 - accuracy: 0.6169 - val_loss: 0.9782 - val_accuracy: 0.6090\n",
      "Epoch 63/100\n",
      "18/17 [==============================] - 24s 1s/step - loss: 0.8723 - accuracy: 0.6098 - val_loss: 1.0586 - val_accuracy: 0.6037\n",
      "Epoch 64/100\n",
      "18/17 [==============================] - 24s 1s/step - loss: 0.8519 - accuracy: 0.6258 - val_loss: 1.3152 - val_accuracy: 0.5665\n",
      "Epoch 65/100\n",
      "18/17 [==============================] - 23s 1s/step - loss: 0.8686 - accuracy: 0.6320 - val_loss: 0.9374 - val_accuracy: 0.6516\n",
      "Epoch 66/100\n",
      "18/17 [==============================] - 24s 1s/step - loss: 0.8302 - accuracy: 0.6169 - val_loss: 0.9074 - val_accuracy: 0.6516\n",
      "Epoch 67/100\n",
      "18/17 [==============================] - 23s 1s/step - loss: 0.8286 - accuracy: 0.6391 - val_loss: 1.0213 - val_accuracy: 0.6383\n",
      "Epoch 68/100\n",
      "18/17 [==============================] - 25s 1s/step - loss: 0.8160 - accuracy: 0.6302 - val_loss: 1.3277 - val_accuracy: 0.5824\n",
      "Epoch 69/100\n",
      "18/17 [==============================] - 24s 1s/step - loss: 0.8478 - accuracy: 0.6062 - val_loss: 1.3218 - val_accuracy: 0.5824\n",
      "Epoch 70/100\n",
      "18/17 [==============================] - 24s 1s/step - loss: 0.8249 - accuracy: 0.6364 - val_loss: 1.3588 - val_accuracy: 0.5638\n",
      "Epoch 71/100\n",
      "18/17 [==============================] - 24s 1s/step - loss: 0.8359 - accuracy: 0.6329 - val_loss: 1.1786 - val_accuracy: 0.5851\n",
      "Epoch 72/100\n",
      "18/17 [==============================] - 24s 1s/step - loss: 0.8180 - accuracy: 0.6267 - val_loss: 1.0060 - val_accuracy: 0.6463\n",
      "Epoch 73/100\n",
      "18/17 [==============================] - 24s 1s/step - loss: 0.8449 - accuracy: 0.6213 - val_loss: 0.9197 - val_accuracy: 0.6702\n",
      "Epoch 74/100\n",
      "18/17 [==============================] - 23s 1s/step - loss: 0.8252 - accuracy: 0.6409 - val_loss: 0.9020 - val_accuracy: 0.6622\n",
      "Epoch 75/100\n",
      "18/17 [==============================] - 25s 1s/step - loss: 0.8168 - accuracy: 0.6382 - val_loss: 0.9714 - val_accuracy: 0.6277\n",
      "Epoch 76/100\n",
      "18/17 [==============================] - 24s 1s/step - loss: 0.8567 - accuracy: 0.6196 - val_loss: 0.9511 - val_accuracy: 0.6383\n",
      "Epoch 77/100\n",
      "18/17 [==============================] - 24s 1s/step - loss: 0.8454 - accuracy: 0.6249 - val_loss: 1.0838 - val_accuracy: 0.5878\n",
      "Epoch 78/100\n",
      "18/17 [==============================] - 23s 1s/step - loss: 0.8364 - accuracy: 0.6293 - val_loss: 1.0670 - val_accuracy: 0.5691\n",
      "Epoch 79/100\n",
      "18/17 [==============================] - 24s 1s/step - loss: 0.8304 - accuracy: 0.6382 - val_loss: 1.0794 - val_accuracy: 0.5931\n",
      "Epoch 80/100\n",
      "18/17 [==============================] - 24s 1s/step - loss: 0.8222 - accuracy: 0.6311 - val_loss: 1.0492 - val_accuracy: 0.6197\n",
      "Epoch 81/100\n",
      "18/17 [==============================] - 23s 1s/step - loss: 0.8349 - accuracy: 0.6382 - val_loss: 1.2450 - val_accuracy: 0.5745\n",
      "Epoch 82/100\n",
      "18/17 [==============================] - 24s 1s/step - loss: 0.8347 - accuracy: 0.6436 - val_loss: 1.2734 - val_accuracy: 0.5426\n",
      "Epoch 83/100\n",
      "18/17 [==============================] - 23s 1s/step - loss: 0.8274 - accuracy: 0.6471 - val_loss: 0.9819 - val_accuracy: 0.6489\n",
      "Epoch 84/100\n",
      "18/17 [==============================] - 23s 1s/step - loss: 0.8103 - accuracy: 0.6320 - val_loss: 1.1771 - val_accuracy: 0.5771\n",
      "Epoch 85/100\n",
      "18/17 [==============================] - 23s 1s/step - loss: 0.8276 - accuracy: 0.6284 - val_loss: 1.0480 - val_accuracy: 0.5984\n",
      "Epoch 86/100\n",
      "18/17 [==============================] - 23s 1s/step - loss: 0.8135 - accuracy: 0.6436 - val_loss: 0.9479 - val_accuracy: 0.6356\n",
      "Epoch 87/100\n",
      "18/17 [==============================] - 23s 1s/step - loss: 0.7869 - accuracy: 0.6356 - val_loss: 0.9601 - val_accuracy: 0.6356\n",
      "Epoch 88/100\n",
      "18/17 [==============================] - 23s 1s/step - loss: 0.7617 - accuracy: 0.6569 - val_loss: 0.9187 - val_accuracy: 0.6596\n",
      "Epoch 89/100\n",
      "18/17 [==============================] - 22s 1s/step - loss: 0.7928 - accuracy: 0.6622 - val_loss: 1.0230 - val_accuracy: 0.6277\n",
      "Epoch 90/100\n",
      "18/17 [==============================] - 24s 1s/step - loss: 0.7790 - accuracy: 0.6533 - val_loss: 1.2501 - val_accuracy: 0.5612\n",
      "Epoch 91/100\n",
      "18/17 [==============================] - 23s 1s/step - loss: 0.7889 - accuracy: 0.6427 - val_loss: 1.0097 - val_accuracy: 0.6037\n",
      "Epoch 92/100\n",
      "18/17 [==============================] - 24s 1s/step - loss: 0.7923 - accuracy: 0.6427 - val_loss: 0.8645 - val_accuracy: 0.6649\n",
      "Epoch 93/100\n",
      "18/17 [==============================] - 22s 1s/step - loss: 0.8019 - accuracy: 0.6373 - val_loss: 0.9256 - val_accuracy: 0.6223\n",
      "Epoch 94/100\n",
      "18/17 [==============================] - 24s 1s/step - loss: 0.8221 - accuracy: 0.6329 - val_loss: 1.2656 - val_accuracy: 0.5745\n",
      "Epoch 95/100\n",
      "18/17 [==============================] - 24s 1s/step - loss: 0.7859 - accuracy: 0.6400 - val_loss: 0.9793 - val_accuracy: 0.6037\n",
      "Epoch 96/100\n",
      "18/17 [==============================] - 22s 1s/step - loss: 0.8105 - accuracy: 0.6302 - val_loss: 0.8929 - val_accuracy: 0.6596\n",
      "Epoch 97/100\n",
      "18/17 [==============================] - 23s 1s/step - loss: 0.8010 - accuracy: 0.6329 - val_loss: 1.1229 - val_accuracy: 0.5878\n",
      "Epoch 98/100\n",
      "18/17 [==============================] - 23s 1s/step - loss: 0.7954 - accuracy: 0.6471 - val_loss: 0.8945 - val_accuracy: 0.6489\n",
      "Epoch 99/100\n",
      "18/17 [==============================] - 23s 1s/step - loss: 0.8146 - accuracy: 0.6373 - val_loss: 0.9188 - val_accuracy: 0.6489\n",
      "Epoch 100/100\n",
      "18/17 [==============================] - 23s 1s/step - loss: 0.7824 - accuracy: 0.6596 - val_loss: 0.8820 - val_accuracy: 0.6543\n"
     ]
    }
   ],
   "source": [
    "history = model.fit(\n",
    "        training_set,\n",
    "        steps_per_epoch=(1125/64),\n",
    "        epochs=100,\n",
    "        validation_data=test_set,\n",
    "        validation_steps=(376/64))"
   ]
  },
  {
   "cell_type": "code",
   "execution_count": null,
   "metadata": {
    "papermill": {
     "duration": 0.700371,
     "end_time": "2020-12-14T13:36:46.645589",
     "exception": false,
     "start_time": "2020-12-14T13:36:45.945218",
     "status": "completed"
    },
    "tags": []
   },
   "outputs": [],
   "source": []
  },
  {
   "cell_type": "markdown",
   "metadata": {
    "papermill": {
     "duration": 0.688308,
     "end_time": "2020-12-14T13:36:48.021618",
     "exception": false,
     "start_time": "2020-12-14T13:36:47.333310",
     "status": "completed"
    },
    "tags": []
   },
   "source": [
    "## Task 6: Accuracy"
   ]
  },
  {
   "cell_type": "code",
   "execution_count": 21,
   "metadata": {
    "execution": {
     "iopub.execute_input": "2020-12-14T13:36:49.419740Z",
     "iopub.status.busy": "2020-12-14T13:36:49.411903Z",
     "iopub.status.idle": "2020-12-14T13:36:49.983376Z",
     "shell.execute_reply": "2020-12-14T13:36:49.983863Z"
    },
    "papermill": {
     "duration": 1.273623,
     "end_time": "2020-12-14T13:36:49.983996",
     "exception": false,
     "start_time": "2020-12-14T13:36:48.710373",
     "status": "completed"
    },
    "tags": []
   },
   "outputs": [
    {
     "data": {
      "image/png": "[encoded data removed]",
      "text/plain": [
       "<Figure size 432x288 with 1 Axes>"
      ]
     },
     "metadata": {},
     "output_type": "display_data"
    },
    {
     "data": {
      "image/png": "[encoded data removed]",
      "text/plain": [
       "<Figure size 432x288 with 1 Axes>"
      ]
     },
     "metadata": {},
     "output_type": "display_data"
    }
   ],
   "source": [
    "#Graphing our training and validation\n",
    "accuracy = history.history['accuracy']\n",
    "val_accuracy = history.history['val_accuracy']\n",
    "loss = history.history['loss']\n",
    "val_loss = history.history['val_loss']\n",
    "epochs = range(len(accuracy))\n",
    "plt.plot(epochs, accuracy, 'r', label='Training acc')\n",
    "plt.plot(epochs, val_accuracy, 'b', label='Validation acc')\n",
    "plt.title('Training and validation accuracy')\n",
    "plt.ylabel('accuracy') \n",
    "plt.xlabel('epoch')\n",
    "plt.legend()\n",
    "plt.figure()\n",
    "plt.plot(epochs, loss, 'r', label='Training loss')\n",
    "plt.plot(epochs, val_loss, 'b', label='Validation loss')\n",
    "plt.title('Training and validation loss')\n",
    "plt.ylabel('loss') \n",
    "plt.xlabel('epoch')\n",
    "plt.legend()\n",
    "plt.show()"
   ]
  },
  {
   "cell_type": "code",
   "execution_count": null,
   "metadata": {
    "papermill": {
     "duration": 0.696802,
     "end_time": "2020-12-14T13:36:51.386243",
     "exception": false,
     "start_time": "2020-12-14T13:36:50.689441",
     "status": "completed"
    },
    "tags": []
   },
   "outputs": [],
   "source": []
  },
  {
   "cell_type": "code",
   "execution_count": 22,
   "metadata": {
    "execution": {
     "iopub.execute_input": "2020-12-14T13:36:53.026406Z",
     "iopub.status.busy": "2020-12-14T13:36:53.024562Z",
     "iopub.status.idle": "2020-12-14T13:36:53.027056Z",
     "shell.execute_reply": "2020-12-14T13:36:53.027551Z"
    },
    "papermill": {
     "duration": 0.870912,
     "end_time": "2020-12-14T13:36:53.027673",
     "exception": false,
     "start_time": "2020-12-14T13:36:52.156761",
     "status": "completed"
    },
    "tags": []
   },
   "outputs": [],
   "source": [
    "#model.save(\"simple_animal_classification_model.h5\")#save model"
   ]
  },
  {
   "cell_type": "code",
   "execution_count": 23,
   "metadata": {
    "execution": {
     "iopub.execute_input": "2020-12-14T13:36:54.420123Z",
     "iopub.status.busy": "2020-12-14T13:36:54.419453Z",
     "iopub.status.idle": "2020-12-14T13:36:54.423672Z",
     "shell.execute_reply": "2020-12-14T13:36:54.423076Z"
    },
    "papermill": {
     "duration": 0.706695,
     "end_time": "2020-12-14T13:36:54.423782",
     "exception": false,
     "start_time": "2020-12-14T13:36:53.717087",
     "status": "completed"
    },
    "tags": []
   },
   "outputs": [],
   "source": [
    "#from keras.models import load_model\n",
    "#model=load_model(\"simple_animal_classification_model.h5\") "
   ]
  },
  {
   "cell_type": "markdown",
   "metadata": {
    "papermill": {
     "duration": 0.691492,
     "end_time": "2020-12-14T13:36:55.810764",
     "exception": false,
     "start_time": "2020-12-14T13:36:55.119272",
     "status": "completed"
    },
    "tags": []
   },
   "source": [
    "## Task 7: Testing"
   ]
  },
  {
   "cell_type": "code",
   "execution_count": 24,
   "metadata": {
    "execution": {
     "iopub.execute_input": "2020-12-14T13:36:57.210683Z",
     "iopub.status.busy": "2020-12-14T13:36:57.209906Z",
     "iopub.status.idle": "2020-12-14T13:36:57.232785Z",
     "shell.execute_reply": "2020-12-14T13:36:57.233832Z"
    },
    "papermill": {
     "duration": 0.720931,
     "end_time": "2020-12-14T13:36:57.234003",
     "exception": false,
     "start_time": "2020-12-14T13:36:56.513072",
     "status": "completed"
    },
    "tags": []
   },
   "outputs": [
    {
     "data": {
      "image/png": "[encoded data removed]",
      "text/plain": [
       "<PIL.Image.Image image mode=L size=32x32 at 0x7FD81C050A90>"
      ]
     },
     "execution_count": 24,
     "metadata": {},
     "output_type": "execute_result"
    }
   ],
   "source": [
    "from keras.preprocessing import image\n",
    "test_image = image.load_img(\"../input/african-wildlife/zebra/001.jpg\",target_size=(32,32),color_mode='grayscale')\n",
    "test_image \n"
   ]
  },
  {
   "cell_type": "code",
   "execution_count": 25,
   "metadata": {
    "execution": {
     "iopub.execute_input": "2020-12-14T13:36:58.633378Z",
     "iopub.status.busy": "2020-12-14T13:36:58.632463Z",
     "iopub.status.idle": "2020-12-14T13:36:58.634508Z",
     "shell.execute_reply": "2020-12-14T13:36:58.634974Z"
    },
    "papermill": {
     "duration": 0.704132,
     "end_time": "2020-12-14T13:36:58.635105",
     "exception": false,
     "start_time": "2020-12-14T13:36:57.930973",
     "status": "completed"
    },
    "tags": []
   },
   "outputs": [],
   "source": [
    "test_image = image.img_to_array(test_image)\n",
    "test_image = np.expand_dims(test_image,axis=0)"
   ]
  },
  {
   "cell_type": "code",
   "execution_count": 26,
   "metadata": {
    "execution": {
     "iopub.execute_input": "2020-12-14T13:37:00.027656Z",
     "iopub.status.busy": "2020-12-14T13:37:00.026789Z",
     "iopub.status.idle": "2020-12-14T13:37:00.171617Z",
     "shell.execute_reply": "2020-12-14T13:37:00.172059Z"
    },
    "papermill": {
     "duration": 0.848165,
     "end_time": "2020-12-14T13:37:00.172223",
     "exception": false,
     "start_time": "2020-12-14T13:36:59.324058",
     "status": "completed"
    },
    "tags": []
   },
   "outputs": [
    {
     "name": "stdout",
     "output_type": "stream",
     "text": [
      "zebra\n"
     ]
    }
   ],
   "source": [
    "result = model.predict(test_image)\n",
    "\n",
    "my_dict=training_set.class_indices\n",
    "def get_key(val): \n",
    "    for key, value in my_dict.items(): \n",
    "         if val == value: \n",
    "             return key \n",
    "  \n",
    "    return \"key doesn't exist\"\n",
    "\n",
    "pred=list(result[0])\n",
    "for i in range(len(pred)):\n",
    "    if pred[i]!=0:\n",
    "        print(get_key(i))"
   ]
  },
  {
   "cell_type": "code",
   "execution_count": null,
   "metadata": {
    "papermill": {
     "duration": 0.695259,
     "end_time": "2020-12-14T13:37:01.562152",
     "exception": false,
     "start_time": "2020-12-14T13:37:00.866893",
     "status": "completed"
    },
    "tags": []
   },
   "outputs": [],
   "source": []
  },
  {
   "cell_type": "code",
   "execution_count": null,
   "metadata": {
    "papermill": {
     "duration": 0.701704,
     "end_time": "2020-12-14T13:37:02.957153",
     "exception": false,
     "start_time": "2020-12-14T13:37:02.255449",
     "status": "completed"
    },
    "tags": []
   },
   "outputs": [],
   "source": []
  }
 ],
 "metadata": {
  "kernelspec": {
   "display_name": "Python 3",
   "language": "python",
   "name": "python3"
  },
  "language_info": {
   "codemirror_mode": {
    "name": "ipython",
    "version": 3
   },
   "file_extension": ".py",
   "mimetype": "text/x-python",
   "name": "python",
   "nbconvert_exporter": "python",
   "pygments_lexer": "ipython3",
   "version": "3.7.6"
  },
  "papermill": {
   "duration": 2507.067366,
   "end_time": "2020-12-14T13:37:05.229632",
   "environment_variables": {},
   "exception": null,
   "input_path": "__notebook__.ipynb",
   "output_path": "__notebook__.ipynb",
   "parameters": {},
   "start_time": "2020-12-14T12:55:18.162266",
   "version": "2.1.0"
  }
 },
 "nbformat": 4,
 "nbformat_minor": 4
}
